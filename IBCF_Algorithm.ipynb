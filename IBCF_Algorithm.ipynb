{
  "nbformat": 4,
  "nbformat_minor": 0,
  "metadata": {
    "colab": {
      "provenance": [],
      "authorship_tag": "ABX9TyPWk2Gxxjl8NTpGM4qWfNyf",
      "include_colab_link": true
    },
    "kernelspec": {
      "name": "python3",
      "display_name": "Python 3"
    },
    "language_info": {
      "name": "python"
    }
  },
  "cells": [
    {
      "cell_type": "markdown",
      "metadata": {
        "id": "view-in-github",
        "colab_type": "text"
      },
      "source": [
        "<a href=\"https://colab.research.google.com/github/dylxnchan/nps-flushfinder/blob/main/IBCF_Algorithm.ipynb\" target=\"_parent\"><img src=\"https://colab.research.google.com/assets/colab-badge.svg\" alt=\"Open In Colab\"/></a>"
      ]
    },
    {
      "cell_type": "code",
      "source": [
        "import numpy as np\n",
        "\n",
        "# pseudo dataset: Ratings matrix in our database (rows: users, columns: toilet ratings)\n",
        "# Rows: Users A to J, Columns: toilets 0 to 9\n",
        "ratings = np.array([\n",
        "    [4, 3, 0, 0, 5, 0, 0, 0, 0, 2],  # Ratings by user A\n",
        "    [0, 0, 0, 0, 4, 0, 3, 0, 0, 0],  # Ratings by user B\n",
        "    [2, 0, 3, 0, 5, 0, 0, 0, 0, 0],  # Ratings by user C\n",
        "    [0, 3, 0, 0, 4, 0, 0, 0, 0, 0],  # Ratings by user D\n",
        "    [0, 0, 0, 0, 0, 0, 0, 0, 0, 5],  # Ratings by user E\n",
        "    [0, 0, 0, 0, 4, 3, 0, 0, 0, 0],  # Ratings by user F\n",
        "    [0, 0, 0, 0, 0, 4, 3, 0, 0, 0],  # Ratings by user G\n",
        "    [0, 0, 0, 0, 0, 0, 0, 0, 0, 5],  # Ratings by user H\n",
        "    [0, 0, 0, 0, 0, 4, 0, 3, 0, 0],  # Ratings by user I\n",
        "    [4, 0, 0, 3, 5, 0, 0, 0, 0, 0]   # Ratings by user J\n",
        "])\n",
        "\n",
        "# STEP 1: \"Nearest Neighbours\"; Calculate cosine similarity between toilets\n",
        "def cosine_similarity(toilet_a, toilet_b):\n",
        "    dot_product = np.dot(toilet_a, toilet_b)\n",
        "    norm_a = np.linalg.norm(toilet_a)\n",
        "    norm_b = np.linalg.norm(toilet_b)\n",
        "\n",
        "    if norm_a == 0 or norm_b == 0:\n",
        "        return 0  # avoid division by zero; return 0 if one of the norms is zero\n",
        "\n",
        "    return dot_product / (norm_a * norm_b)\n",
        "\n",
        "# STEP 2: Generate similarity matrix between toilets (comprising the indices for each toilet)\n",
        "similarity_matrix = np.zeros((10, 10))\n",
        "for i in range(10):\n",
        "    for j in range(i, 10):\n",
        "        similarity_matrix[i, j] = similarity_matrix[j, i] = cosine_similarity(ratings[:, i], ratings[:, j])\n",
        "\n",
        "# STEP 3: Predict ratings for new, unused toilets using the IBCF Algorithm\n",
        "def predict_ratings(user_ratings, similarity_matrix):\n",
        "    predicted_ratings = np.zeros(10)\n",
        "    for toilet in range(10):\n",
        "        if user_ratings[toilet] == 0:  # Indicates a new, unused toilet\n",
        "            numerator = 0\n",
        "            denominator = 0\n",
        "            for neighbor_toilet in range(10):\n",
        "                if user_ratings[neighbor_toilet] != 0:  # \"Neighbor\" toilet with rating\n",
        "                    similarity = similarity_matrix[toilet, neighbor_toilet]\n",
        "                    numerator += similarity * user_ratings[neighbor_toilet]\n",
        "                    denominator += similarity\n",
        "            predicted_ratings[toilet] = numerator / denominator if denominator != 0 else 0 # avoid division by zero; set predicted rating to 0 if no similar toilets with non-zero ratings\n",
        "    return predicted_ratings"
      ],
      "metadata": {
        "id": "ra2zJ2-irYyO"
      },
      "execution_count": null,
      "outputs": []
    },
    {
      "cell_type": "code",
      "source": [
        "# Example 1: Predict ratings for user E\n",
        "user_e_ratings = ratings[4]\n",
        "predicted_ratings_e = predict_ratings(user_e_ratings, similarity_matrix)\n",
        "\n",
        "# Output: List of used toilets by user E\n",
        "print(\"List of toilets User E has used:\")\n",
        "for toilet, rating in enumerate(user_e_ratings):\n",
        "    if rating != 0:\n",
        "        print(f\"Toilet_{toilet}\")\n",
        "\n",
        "# Output: List of recommended toilets for user E\n",
        "print(\"\\nThe list of the Recommended Toilets:\")\n",
        "recommended_toilets = sorted(enumerate(predicted_ratings_e), key=lambda x: x[1], reverse=True)\n",
        "for i, (toilet, rating) in enumerate(recommended_toilets, start=1):\n",
        "    print(f\"{i}: Toilet_{toilet} - predicted rating: {rating}\")"
      ],
      "metadata": {
        "colab": {
          "base_uri": "https://localhost:8080/"
        },
        "id": "A06SFboLr580",
        "outputId": "a20bcdcb-cacc-46c8-8dd1-4235ec600dd2"
      },
      "execution_count": 48,
      "outputs": [
        {
          "output_type": "stream",
          "name": "stdout",
          "text": [
            "List of toilets User E has used:\n",
            "Toilet_9\n",
            "\n",
            "The list of the Recommended Toilets:\n",
            "1: Toilet_0 - predicted rating: 5.0\n",
            "2: Toilet_1 - predicted rating: 5.0\n",
            "3: Toilet_4 - predicted rating: 5.0\n",
            "4: Toilet_2 - predicted rating: 0.0\n",
            "5: Toilet_3 - predicted rating: 0.0\n",
            "6: Toilet_5 - predicted rating: 0.0\n",
            "7: Toilet_6 - predicted rating: 0.0\n",
            "8: Toilet_7 - predicted rating: 0.0\n",
            "9: Toilet_8 - predicted rating: 0.0\n",
            "10: Toilet_9 - predicted rating: 0.0\n"
          ]
        }
      ]
    },
    {
      "cell_type": "markdown",
      "source": [
        "Toilet 0 and 1 will be recommended to User E"
      ],
      "metadata": {
        "id": "l_rku5deGd5w"
      }
    },
    {
      "cell_type": "code",
      "source": [
        "# Example 2: Predict ratings for user C\n",
        "user_c_ratings = ratings[2]\n",
        "predicted_ratings_c = predict_ratings(user_c_ratings, similarity_matrix)\n",
        "\n",
        "# Output: List of used toilets by user C\n",
        "print(\"List of toilets User C has used:\")\n",
        "for toilet, rating in enumerate(user_c_ratings):\n",
        "    if rating != 0:\n",
        "        print(f\"Toilet_{toilet}\")\n",
        "\n",
        "# Output: List of recommended toilets for user C\n",
        "print(\"\\nThe list of the Recommended Toilets:\")\n",
        "recommended_toilets_c = sorted(enumerate(predicted_ratings_c), key=lambda x: x[1], reverse=True)\n",
        "for i, (toilet, rating) in enumerate(recommended_toilets_c, start=1):\n",
        "    print(f\"{i}: Toilet_{toilet} - predicted rating: {rating}\")\n"
      ],
      "metadata": {
        "colab": {
          "base_uri": "https://localhost:8080/"
        },
        "id": "iounDZrvr8zs",
        "outputId": "8f069b16-2f74-4ad8-88d5-93b7088b822b"
      },
      "execution_count": 50,
      "outputs": [
        {
          "output_type": "stream",
          "name": "stdout",
          "text": [
            "List of toilets User C has used:\n",
            "Toilet_0\n",
            "Toilet_2\n",
            "Toilet_4\n",
            "\n",
            "The list of the Recommended Toilets:\n",
            "1: Toilet_5 - predicted rating: 5.0\n",
            "2: Toilet_6 - predicted rating: 5.0\n",
            "3: Toilet_1 - predicted rating: 3.6469750462517907\n",
            "4: Toilet_9 - predicted rating: 3.210293204407669\n",
            "5: Toilet_3 - predicted rating: 3.2102932044076686\n",
            "6: Toilet_0 - predicted rating: 0.0\n",
            "7: Toilet_2 - predicted rating: 0.0\n",
            "8: Toilet_4 - predicted rating: 0.0\n",
            "9: Toilet_7 - predicted rating: 0.0\n",
            "10: Toilet_8 - predicted rating: 0.0\n"
          ]
        }
      ]
    },
    {
      "cell_type": "markdown",
      "source": [
        "Toilet 5 and 6 will be recommended to User C"
      ],
      "metadata": {
        "id": "VbZ72bysGkd4"
      }
    },
    {
      "cell_type": "code",
      "source": [
        "# Example 3: Predict ratings for user J\n",
        "user_j_ratings = ratings[9]\n",
        "predicted_ratings_j = predict_ratings(user_j_ratings, similarity_matrix)\n",
        "\n",
        "# Output: List of used toilets by user J\n",
        "print(\"List of toilets User J has used:\")\n",
        "for toilet, rating in enumerate(user_j_ratings):\n",
        "    if rating != 0:\n",
        "        print(f\"Toilet_{toilet}\")\n",
        "\n",
        "# Output: List of recommended toilets for user J\n",
        "print(\"\\nThe list of the Recommended Toilets:\")\n",
        "recommended_toilets_j = sorted(enumerate(predicted_ratings_j), key=lambda x: x[1], reverse=True)\n",
        "for i, (toilet, rating) in enumerate(recommended_toilets_j, start=1):\n",
        "    print(f\"{i}: Toilet_{toilet} - predicted rating: {rating}\")"
      ],
      "metadata": {
        "colab": {
          "base_uri": "https://localhost:8080/"
        },
        "id": "U1DaFaMAsRg4",
        "outputId": "12816ec8-f39a-48c4-cd5e-ccb18ef05c01"
      },
      "execution_count": 51,
      "outputs": [
        {
          "output_type": "stream",
          "name": "stdout",
          "text": [
            "List of toilets User J has used:\n",
            "Toilet_0\n",
            "Toilet_3\n",
            "Toilet_4\n",
            "\n",
            "The list of the Recommended Toilets:\n",
            "1: Toilet_5 - predicted rating: 5.0\n",
            "2: Toilet_6 - predicted rating: 5.0\n",
            "3: Toilet_2 - predicted rating: 4.574921101998615\n",
            "4: Toilet_1 - predicted rating: 4.54899168208393\n",
            "5: Toilet_9 - predicted rating: 4.403431068135889\n",
            "6: Toilet_0 - predicted rating: 0.0\n",
            "7: Toilet_3 - predicted rating: 0.0\n",
            "8: Toilet_4 - predicted rating: 0.0\n",
            "9: Toilet_7 - predicted rating: 0.0\n",
            "10: Toilet_8 - predicted rating: 0.0\n"
          ]
        }
      ]
    },
    {
      "cell_type": "markdown",
      "source": [
        "Toilet 5 and 6 will be recommended to User J"
      ],
      "metadata": {
        "id": "WyqrCBCfGsKw"
      }
    }
  ]
}